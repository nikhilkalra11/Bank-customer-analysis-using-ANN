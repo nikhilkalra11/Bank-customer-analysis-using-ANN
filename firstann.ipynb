{
 "cells": [
  {
   "cell_type": "code",
   "execution_count": 1,
   "metadata": {},
   "outputs": [
    {
     "name": "stderr",
     "output_type": "stream",
     "text": [
      "C:\\Users\\NIKHIL\\Anaconda3\\envs\\keras\\lib\\site-packages\\sklearn\\preprocessing\\_encoders.py:368: FutureWarning: The handling of integer data will change in version 0.22. Currently, the categories are determined based on the range [0, max(values)], while in the future they will be determined based on the unique values.\n",
      "If you want the future behaviour and silence this warning, you can specify \"categories='auto'\".\n",
      "In case you used a LabelEncoder before this OneHotEncoder to convert the categories to integers, then you can now use the OneHotEncoder directly.\n",
      "  warnings.warn(msg, FutureWarning)\n",
      "C:\\Users\\NIKHIL\\Anaconda3\\envs\\keras\\lib\\site-packages\\sklearn\\preprocessing\\_encoders.py:390: DeprecationWarning: The 'categorical_features' keyword is deprecated in version 0.20 and will be removed in 0.22. You can use the ColumnTransformer instead.\n",
      "  \"use the ColumnTransformer instead.\", DeprecationWarning)\n"
     ]
    }
   ],
   "source": [
    "#PART1-DATA PREPROCESSING\n",
    "\n",
    "# importing libraries\n",
    "import numpy as np\n",
    "import matplotlib.pyplot as plt\n",
    "import pandas as pd\n",
    "\n",
    "#importing dataset\n",
    "dataset=pd.read_csv('Churn_Modelling.csv')\n",
    "X=dataset.iloc[:,3:13].values\n",
    "y=dataset.iloc[:,13].values\n",
    "\n",
    "# Encoding categorical variables\n",
    "from sklearn.preprocessing import LabelEncoder,OneHotEncoder\n",
    "labelencoder_X_1=LabelEncoder()\n",
    "X[:,1]=labelencoder_X_1.fit_transform(X[:,1])\n",
    "labelencoder_X_2=LabelEncoder()\n",
    "X[:,2]=labelencoder_X_2.fit_transform(X[:,2])\n",
    "onehotencoder=OneHotEncoder(categorical_features=[1])\n",
    "X=onehotencoder.fit_transform(X).toarray()\n",
    "X=X[:,1:]\n",
    "\n",
    "#spliting the dataset into training and test\n",
    "from sklearn.model_selection import train_test_split\n",
    "X_train,X_test,y_train,y_test=train_test_split(X,y,test_size=0.2,random_state=0)\n",
    "\n",
    "#feature scaling\n",
    "from sklearn.preprocessing import StandardScaler\n",
    "sc=StandardScaler()\n",
    "X_train=sc.fit_transform(X_train)\n",
    "X_test=sc.transform(X_test)\n",
    "\n"
   ]
  },
  {
   "cell_type": "code",
   "execution_count": 2,
   "metadata": {},
   "outputs": [
    {
     "data": {
      "text/plain": [
       "array([[-0.5698444 ,  1.74309049,  0.16958176, ...,  0.64259497,\n",
       "        -1.03227043,  1.10643166],\n",
       "       [ 1.75486502, -0.57369368, -2.30455945, ...,  0.64259497,\n",
       "         0.9687384 , -0.74866447],\n",
       "       [-0.5698444 , -0.57369368, -1.19119591, ...,  0.64259497,\n",
       "        -1.03227043,  1.48533467],\n",
       "       ...,\n",
       "       [-0.5698444 , -0.57369368,  0.9015152 , ...,  0.64259497,\n",
       "        -1.03227043,  1.41231994],\n",
       "       [-0.5698444 ,  1.74309049, -0.62420521, ...,  0.64259497,\n",
       "         0.9687384 ,  0.84432121],\n",
       "       [ 1.75486502, -0.57369368, -0.28401079, ...,  0.64259497,\n",
       "        -1.03227043,  0.32472465]])"
      ]
     },
     "execution_count": 2,
     "metadata": {},
     "output_type": "execute_result"
    }
   ],
   "source": [
    "X_train\n"
   ]
  },
  {
   "cell_type": "code",
   "execution_count": 3,
   "metadata": {},
   "outputs": [],
   "source": [
    "import keras\n",
    "from keras.models import Sequential\n",
    "from keras.layers import Dense"
   ]
  },
  {
   "cell_type": "code",
   "execution_count": 4,
   "metadata": {},
   "outputs": [],
   "source": [
    "# Intialising the ANN\n",
    "classifier=Sequential()"
   ]
  },
  {
   "cell_type": "code",
   "execution_count": 6,
   "metadata": {},
   "outputs": [],
   "source": [
    "#Adding the input layer and first layer\n",
    "classifier.add(Dense(activation=\"relu\", input_dim=11, units=6, kernel_initializer=\"uniform\"))"
   ]
  },
  {
   "cell_type": "code",
   "execution_count": 7,
   "metadata": {},
   "outputs": [],
   "source": [
    "#Adding the  second layer\n",
    "classifier.add(Dense(activation=\"relu\", units=6, kernel_initializer=\"uniform\"))"
   ]
  },
  {
   "cell_type": "code",
   "execution_count": 8,
   "metadata": {},
   "outputs": [],
   "source": [
    "#Adding the output layer\n",
    "classifier.add(Dense(activation=\"sigmoid\", units=1, kernel_initializer=\"uniform\"))"
   ]
  },
  {
   "cell_type": "code",
   "execution_count": 9,
   "metadata": {},
   "outputs": [],
   "source": [
    "#Compiling the ANN\n",
    "classifier.compile(optimizer='adam',loss='binary_crossentropy',metrics=['accuracy'])"
   ]
  },
  {
   "cell_type": "code",
   "execution_count": 12,
   "metadata": {},
   "outputs": [
    {
     "name": "stdout",
     "output_type": "stream",
     "text": [
      "Epoch 1/100\n",
      "8000/8000 [==============================] - 4s 524us/step - loss: 0.4000 - acc: 0.8357\n",
      "Epoch 2/100\n",
      "8000/8000 [==============================] - 4s 521us/step - loss: 0.3998 - acc: 0.8346\n",
      "Epoch 3/100\n",
      "8000/8000 [==============================] - 4s 540us/step - loss: 0.3999 - acc: 0.8359\n",
      "Epoch 4/100\n",
      "8000/8000 [==============================] - 4s 525us/step - loss: 0.3998 - acc: 0.8351\n",
      "Epoch 5/100\n",
      "8000/8000 [==============================] - 4s 537us/step - loss: 0.3998 - acc: 0.8347\n",
      "Epoch 6/100\n",
      "8000/8000 [==============================] - 4s 542us/step - loss: 0.3999 - acc: 0.8334\n",
      "Epoch 7/100\n",
      "8000/8000 [==============================] - 4s 559us/step - loss: 0.3998 - acc: 0.8352\n",
      "Epoch 8/100\n",
      "8000/8000 [==============================] - 4s 530us/step - loss: 0.3998 - acc: 0.8339\n",
      "Epoch 9/100\n",
      "8000/8000 [==============================] - 5s 585us/step - loss: 0.4000 - acc: 0.8355\n",
      "Epoch 10/100\n",
      "8000/8000 [==============================] - 5s 609us/step - loss: 0.3996 - acc: 0.8357\n",
      "Epoch 11/100\n",
      "8000/8000 [==============================] - 5s 628us/step - loss: 0.4002 - acc: 0.8366\n",
      "Epoch 12/100\n",
      "8000/8000 [==============================] - 5s 664us/step - loss: 0.3996 - acc: 0.8351\n",
      "Epoch 13/100\n",
      "8000/8000 [==============================] - 5s 600us/step - loss: 0.3999 - acc: 0.8344\n",
      "Epoch 14/100\n",
      "8000/8000 [==============================] - 5s 640us/step - loss: 0.3996 - acc: 0.8364\n",
      "Epoch 15/100\n",
      "8000/8000 [==============================] - 4s 534us/step - loss: 0.3996 - acc: 0.8354\n",
      "Epoch 16/100\n",
      "8000/8000 [==============================] - 4s 537us/step - loss: 0.3997 - acc: 0.8357\n",
      "Epoch 17/100\n",
      "8000/8000 [==============================] - 5s 566us/step - loss: 0.4002 - acc: 0.8355\n",
      "Epoch 18/100\n",
      "8000/8000 [==============================] - 4s 530us/step - loss: 0.3999 - acc: 0.8349\n",
      "Epoch 19/100\n",
      "8000/8000 [==============================] - 4s 523us/step - loss: 0.3998 - acc: 0.8346\n",
      "Epoch 20/100\n",
      "8000/8000 [==============================] - 4s 520us/step - loss: 0.3998 - acc: 0.8346\n",
      "Epoch 21/100\n",
      "8000/8000 [==============================] - 4s 560us/step - loss: 0.4001 - acc: 0.8361\n",
      "Epoch 22/100\n",
      "8000/8000 [==============================] - 4s 526us/step - loss: 0.4001 - acc: 0.8344\n",
      "Epoch 23/100\n",
      "8000/8000 [==============================] - 4s 547us/step - loss: 0.3998 - acc: 0.8361\n",
      "Epoch 24/100\n",
      "8000/8000 [==============================] - 4s 540us/step - loss: 0.3991 - acc: 0.8351\n",
      "Epoch 25/100\n",
      "8000/8000 [==============================] - 5s 687us/step - loss: 0.4000 - acc: 0.8354\n",
      "Epoch 26/100\n",
      "8000/8000 [==============================] - 5s 566us/step - loss: 0.3993 - acc: 0.8351\n",
      "Epoch 27/100\n",
      "8000/8000 [==============================] - 5s 591us/step - loss: 0.4001 - acc: 0.8346\n",
      "Epoch 28/100\n",
      "8000/8000 [==============================] - 5s 615us/step - loss: 0.3999 - acc: 0.8355\n",
      "Epoch 29/100\n",
      "8000/8000 [==============================] - 5s 564us/step - loss: 0.3996 - acc: 0.8332\n",
      "Epoch 30/100\n",
      "8000/8000 [==============================] - 6s 769us/step - loss: 0.3996 - acc: 0.8361\n",
      "Epoch 31/100\n",
      "8000/8000 [==============================] - 5s 624us/step - loss: 0.3995 - acc: 0.8350\n",
      "Epoch 32/100\n",
      "8000/8000 [==============================] - 4s 561us/step - loss: 0.3998 - acc: 0.8354\n",
      "Epoch 33/100\n",
      "8000/8000 [==============================] - 4s 529us/step - loss: 0.3997 - acc: 0.8350\n",
      "Epoch 34/100\n",
      "8000/8000 [==============================] - 4s 532us/step - loss: 0.3998 - acc: 0.8355\n",
      "Epoch 35/100\n",
      "8000/8000 [==============================] - 4s 558us/step - loss: 0.3995 - acc: 0.8357\n",
      "Epoch 36/100\n",
      "8000/8000 [==============================] - 4s 522us/step - loss: 0.3999 - acc: 0.8352\n",
      "Epoch 37/100\n",
      "8000/8000 [==============================] - 4s 529us/step - loss: 0.3996 - acc: 0.8356\n",
      "Epoch 38/100\n",
      "8000/8000 [==============================] - 4s 549us/step - loss: 0.3996 - acc: 0.8339\n",
      "Epoch 39/100\n",
      "8000/8000 [==============================] - 5s 589us/step - loss: 0.4001 - acc: 0.8356\n",
      "Epoch 40/100\n",
      "8000/8000 [==============================] - 4s 546us/step - loss: 0.3993 - acc: 0.8357\n",
      "Epoch 41/100\n",
      "8000/8000 [==============================] - 4s 541us/step - loss: 0.3996 - acc: 0.8354\n",
      "Epoch 42/100\n",
      "8000/8000 [==============================] - 5s 625us/step - loss: 0.3990 - acc: 0.8352\n",
      "Epoch 43/100\n",
      "8000/8000 [==============================] - 4s 560us/step - loss: 0.3995 - acc: 0.8362\n",
      "Epoch 44/100\n",
      "8000/8000 [==============================] - 4s 544us/step - loss: 0.3992 - acc: 0.8354\n",
      "Epoch 45/100\n",
      "8000/8000 [==============================] - 4s 562us/step - loss: 0.3993 - acc: 0.8377\n",
      "Epoch 46/100\n",
      "8000/8000 [==============================] - 5s 627us/step - loss: 0.3996 - acc: 0.8356\n",
      "Epoch 47/100\n",
      "8000/8000 [==============================] - 4s 544us/step - loss: 0.3994 - acc: 0.8351\n",
      "Epoch 48/100\n",
      "8000/8000 [==============================] - 4s 541us/step - loss: 0.3992 - acc: 0.8354\n",
      "Epoch 49/100\n",
      "8000/8000 [==============================] - 5s 631us/step - loss: 0.3993 - acc: 0.8369\n",
      "Epoch 50/100\n",
      "8000/8000 [==============================] - 4s 559us/step - loss: 0.3997 - acc: 0.8345\n",
      "Epoch 51/100\n",
      "8000/8000 [==============================] - 4s 544us/step - loss: 0.3989 - acc: 0.8345\n",
      "Epoch 52/100\n",
      "8000/8000 [==============================] - 5s 598us/step - loss: 0.3991 - acc: 0.8376\n",
      "Epoch 53/100\n",
      "8000/8000 [==============================] - 5s 618us/step - loss: 0.3998 - acc: 0.8347\n",
      "Epoch 54/100\n",
      "8000/8000 [==============================] - 5s 584us/step - loss: 0.3991 - acc: 0.8361\n",
      "Epoch 55/100\n",
      "8000/8000 [==============================] - 5s 571us/step - loss: 0.3996 - acc: 0.8349\n",
      "Epoch 56/100\n",
      "8000/8000 [==============================] - 5s 664us/step - loss: 0.3992 - acc: 0.8361\n",
      "Epoch 57/100\n",
      "8000/8000 [==============================] - 5s 617us/step - loss: 0.3994 - acc: 0.8350\n",
      "Epoch 58/100\n",
      "8000/8000 [==============================] - 5s 676us/step - loss: 0.3994 - acc: 0.8356\n",
      "Epoch 59/100\n",
      "8000/8000 [==============================] - 8s 956us/step - loss: 0.3997 - acc: 0.8357\n",
      "Epoch 60/100\n",
      "8000/8000 [==============================] - 6s 743us/step - loss: 0.3995 - acc: 0.8339\n",
      "Epoch 61/100\n",
      "8000/8000 [==============================] - 6s 732us/step - loss: 0.3996 - acc: 0.8355\n",
      "Epoch 62/100\n",
      "8000/8000 [==============================] - 6s 739us/step - loss: 0.3991 - acc: 0.8356\n",
      "Epoch 63/100\n",
      "8000/8000 [==============================] - 5s 656us/step - loss: 0.3991 - acc: 0.8346\n",
      "Epoch 64/100\n",
      "8000/8000 [==============================] - 5s 621us/step - loss: 0.3993 - acc: 0.8365\n",
      "Epoch 65/100\n",
      "8000/8000 [==============================] - 5s 609us/step - loss: 0.3995 - acc: 0.8349\n",
      "Epoch 66/100\n",
      "8000/8000 [==============================] - 5s 671us/step - loss: 0.3994 - acc: 0.8359\n",
      "Epoch 67/100\n",
      "8000/8000 [==============================] - 5s 662us/step - loss: 0.3999 - acc: 0.8354\n",
      "Epoch 68/100\n",
      "8000/8000 [==============================] - 5s 602us/step - loss: 0.3992 - acc: 0.8346\n",
      "Epoch 69/100\n",
      "8000/8000 [==============================] - 5s 632us/step - loss: 0.3987 - acc: 0.8346\n",
      "Epoch 70/100\n",
      "8000/8000 [==============================] - 5s 675us/step - loss: 0.3997 - acc: 0.8344\n",
      "Epoch 71/100\n",
      "8000/8000 [==============================] - 5s 631us/step - loss: 0.3994 - acc: 0.8361\n",
      "Epoch 72/100\n",
      "8000/8000 [==============================] - 5s 571us/step - loss: 0.3996 - acc: 0.8352\n",
      "Epoch 73/100\n",
      "8000/8000 [==============================] - 5s 639us/step - loss: 0.3995 - acc: 0.8357\n",
      "Epoch 74/100\n",
      "8000/8000 [==============================] - 5s 668us/step - loss: 0.3994 - acc: 0.8347\n",
      "Epoch 75/100\n",
      "8000/8000 [==============================] - 5s 578us/step - loss: 0.3991 - acc: 0.8342\n",
      "Epoch 76/100\n",
      "8000/8000 [==============================] - 5s 599us/step - loss: 0.3993 - acc: 0.8361\n",
      "Epoch 77/100\n",
      "8000/8000 [==============================] - 5s 669us/step - loss: 0.3996 - acc: 0.8350\n",
      "Epoch 78/100\n",
      "8000/8000 [==============================] - 5s 603us/step - loss: 0.3991 - acc: 0.8370\n",
      "Epoch 79/100\n",
      "8000/8000 [==============================] - 5s 577us/step - loss: 0.3990 - acc: 0.8347\n",
      "Epoch 80/100\n",
      "8000/8000 [==============================] - 5s 670us/step - loss: 0.3994 - acc: 0.8344\n",
      "Epoch 81/100\n",
      "8000/8000 [==============================] - 5s 628us/step - loss: 0.3994 - acc: 0.8355\n",
      "Epoch 82/100\n"
     ]
    },
    {
     "name": "stdout",
     "output_type": "stream",
     "text": [
      "8000/8000 [==============================] - 5s 563us/step - loss: 0.3992 - acc: 0.8359\n",
      "Epoch 83/100\n",
      "8000/8000 [==============================] - 5s 615us/step - loss: 0.3995 - acc: 0.8341\n",
      "Epoch 84/100\n",
      "8000/8000 [==============================] - 5s 660us/step - loss: 0.3992 - acc: 0.8345\n",
      "Epoch 85/100\n",
      "8000/8000 [==============================] - 4s 538us/step - loss: 0.3992 - acc: 0.8345\n",
      "Epoch 86/100\n",
      "8000/8000 [==============================] - 4s 552us/step - loss: 0.3994 - acc: 0.8346\n",
      "Epoch 87/100\n",
      "8000/8000 [==============================] - 5s 617us/step - loss: 0.3989 - acc: 0.8372\n",
      "Epoch 88/100\n",
      "8000/8000 [==============================] - 4s 534us/step - loss: 0.3991 - acc: 0.8359\n",
      "Epoch 89/100\n",
      "8000/8000 [==============================] - 5s 581us/step - loss: 0.3996 - acc: 0.8355\n",
      "Epoch 90/100\n",
      "8000/8000 [==============================] - 5s 583us/step - loss: 0.3994 - acc: 0.8362\n",
      "Epoch 91/100\n",
      "8000/8000 [==============================] - 5s 578us/step - loss: 0.3993 - acc: 0.8347\n",
      "Epoch 92/100\n",
      "8000/8000 [==============================] - 4s 553us/step - loss: 0.3990 - acc: 0.8352\n",
      "Epoch 93/100\n",
      "8000/8000 [==============================] - 5s 615us/step - loss: 0.3993 - acc: 0.8355\n",
      "Epoch 94/100\n",
      "8000/8000 [==============================] - 5s 618us/step - loss: 0.3993 - acc: 0.8362\n",
      "Epoch 95/100\n",
      "8000/8000 [==============================] - 4s 544us/step - loss: 0.3998 - acc: 0.8349\n",
      "Epoch 96/100\n",
      "8000/8000 [==============================] - 5s 573us/step - loss: 0.3994 - acc: 0.8361\n",
      "Epoch 97/100\n",
      "8000/8000 [==============================] - 5s 614us/step - loss: 0.3994 - acc: 0.8352\n",
      "Epoch 98/100\n",
      "8000/8000 [==============================] - 4s 562us/step - loss: 0.3993 - acc: 0.8356\n",
      "Epoch 99/100\n",
      "8000/8000 [==============================] - 5s 570us/step - loss: 0.3990 - acc: 0.8355\n",
      "Epoch 100/100\n",
      "8000/8000 [==============================] - 5s 577us/step - loss: 0.3995 - acc: 0.8364\n"
     ]
    },
    {
     "data": {
      "text/plain": [
       "<keras.callbacks.History at 0x1c4d00e4710>"
      ]
     },
     "execution_count": 12,
     "metadata": {},
     "output_type": "execute_result"
    }
   ],
   "source": [
    "#Fitting the ANN to training dataset\n",
    "classifier.fit(X_train,y_train,batch_size=10,epochs=100)"
   ]
  },
  {
   "cell_type": "code",
   "execution_count": 13,
   "metadata": {},
   "outputs": [],
   "source": [
    "#PART-3 MAKING PREDICTION AND EVALUATING\n",
    "\n",
    "#Predict the test data results\n",
    "\n",
    "y_pred=classifier.predict(X_test)\n",
    "y_pred=(y_pred>0.5)"
   ]
  },
  {
   "cell_type": "code",
   "execution_count": 14,
   "metadata": {},
   "outputs": [
    {
     "data": {
      "text/plain": [
       "array([[False],\n",
       "       [False],\n",
       "       [False],\n",
       "       ...,\n",
       "       [False],\n",
       "       [False],\n",
       "       [False]])"
      ]
     },
     "execution_count": 14,
     "metadata": {},
     "output_type": "execute_result"
    }
   ],
   "source": [
    "y_pred\n"
   ]
  },
  {
   "cell_type": "code",
   "execution_count": 15,
   "metadata": {},
   "outputs": [],
   "source": [
    "#Making confusion matrix\n",
    "from sklearn.metrics import confusion_matrix\n",
    "cm=confusion_matrix(y_test,y_pred)"
   ]
  },
  {
   "cell_type": "code",
   "execution_count": 16,
   "metadata": {},
   "outputs": [
    {
     "data": {
      "text/plain": [
       "array([[1543,   52],\n",
       "       [ 264,  141]], dtype=int64)"
      ]
     },
     "execution_count": 16,
     "metadata": {},
     "output_type": "execute_result"
    }
   ],
   "source": [
    "cm\n"
   ]
  },
  {
   "cell_type": "code",
   "execution_count": 17,
   "metadata": {},
   "outputs": [
    {
     "data": {
      "text/plain": [
       "0.842"
      ]
     },
     "execution_count": 17,
     "metadata": {},
     "output_type": "execute_result"
    }
   ],
   "source": [
    "(1543+141)/2000\n"
   ]
  },
  {
   "cell_type": "markdown",
   "metadata": {},
   "source": [
    "#homework trial\n"
   ]
  },
  {
   "cell_type": "code",
   "execution_count": 18,
   "metadata": {},
   "outputs": [
    {
     "data": {
      "text/plain": [
       "array([[ 1.75486502, -0.57369368, -0.55204276, ...,  0.64259497,\n",
       "         0.9687384 ,  1.61085707],\n",
       "       [-0.5698444 , -0.57369368, -1.31490297, ...,  0.64259497,\n",
       "        -1.03227043,  0.49587037],\n",
       "       [-0.5698444 ,  1.74309049,  0.57162971, ...,  0.64259497,\n",
       "         0.9687384 , -0.42478674],\n",
       "       ...,\n",
       "       [-0.5698444 ,  1.74309049, -0.74791227, ...,  0.64259497,\n",
       "        -1.03227043,  0.71888467],\n",
       "       [ 1.75486502, -0.57369368, -0.00566991, ...,  0.64259497,\n",
       "         0.9687384 , -1.54507805],\n",
       "       [ 1.75486502, -0.57369368, -0.79945688, ...,  0.64259497,\n",
       "        -1.03227043,  1.61255917]])"
      ]
     },
     "execution_count": 18,
     "metadata": {},
     "output_type": "execute_result"
    }
   ],
   "source": [
    "X_test"
   ]
  },
  {
   "cell_type": "code",
   "execution_count": 2,
   "metadata": {},
   "outputs": [],
   "source": [
    "#PART 4 -EVALUATING ,IMPROVING AND TUNING THE MODEL(PERFROM AFTER 1ST PART NO NEED OF 2ND AND 3RD PART)"
   ]
  },
  {
   "cell_type": "code",
   "execution_count": 8,
   "metadata": {},
   "outputs": [
    {
     "ename": "SyntaxError",
     "evalue": "invalid syntax (<ipython-input-8-3395a2c19eb1>, line 2)",
     "output_type": "error",
     "traceback": [
      "\u001b[1;36m  File \u001b[1;32m\"<ipython-input-8-3395a2c19eb1>\"\u001b[1;36m, line \u001b[1;32m2\u001b[0m\n\u001b[1;33m    import tensorflow-gpu\u001b[0m\n\u001b[1;37m                     ^\u001b[0m\n\u001b[1;31mSyntaxError\u001b[0m\u001b[1;31m:\u001b[0m invalid syntax\n"
     ]
    }
   ],
   "source": [
    "#Evaluating the ANN\n",
    "import tensorflow-gpu\n",
    "from keras.models import Sequential\n",
    "from keras.layers import Dense\n",
    "from keras.wrappers.scikit_learn import KerasClassifier\n",
    "from sklearn.model_selection import cross_val_score\n",
    "def build_classifier():\n",
    "    classifier=Sequential();\n",
    "    classifier.add(Dense(activation=\"relu\", input_dim=11, units=6, kernel_initializer=\"uniform\"))\n",
    "    classifier.add(Dense(activation=\"relu\", units=6, kernel_initializer=\"uniform\"))\n",
    "    classifier.add(Dense(activation=\"sigmoid\", units=1, kernel_initializer=\"uniform\"))\n",
    "    classifier.compile(optimizer='adam',loss='binary_crossentropy',metrics=['accuracy'])\n",
    "    return classifier\n",
    "classifier=KerasClassifier(build_fn=build_classifier,batch_size=10,epochs=100)\n",
    "accuracies=cross_val_score(estimator=classifier,X=X_train,y=y_train,cv=10,n_jobs=-1,error_score='raise')"
   ]
  },
  {
   "cell_type": "code",
   "execution_count": null,
   "metadata": {},
   "outputs": [],
   "source": []
  }
 ],
 "metadata": {
  "kernelspec": {
   "display_name": "Python 3",
   "language": "python",
   "name": "python3"
  },
  "language_info": {
   "codemirror_mode": {
    "name": "ipython",
    "version": 3
   },
   "file_extension": ".py",
   "mimetype": "text/x-python",
   "name": "python",
   "nbconvert_exporter": "python",
   "pygments_lexer": "ipython3",
   "version": "3.6.8"
  }
 },
 "nbformat": 4,
 "nbformat_minor": 2
}
